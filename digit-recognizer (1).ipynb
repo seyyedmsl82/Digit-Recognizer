{
 "cells": [
  {
   "cell_type": "markdown",
   "id": "d6852077",
   "metadata": {
    "papermill": {
     "duration": 0.009866,
     "end_time": "2023-07-12T19:41:51.067024",
     "exception": false,
     "start_time": "2023-07-12T19:41:51.057158",
     "status": "completed"
    },
    "tags": []
   },
   "source": [
    "# Importing Libraries"
   ]
  },
  {
   "cell_type": "code",
   "execution_count": 1,
   "id": "9d26d7cd",
   "metadata": {
    "execution": {
     "iopub.execute_input": "2023-07-12T19:41:51.087970Z",
     "iopub.status.busy": "2023-07-12T19:41:51.087083Z",
     "iopub.status.idle": "2023-07-12T19:42:01.622414Z",
     "shell.execute_reply": "2023-07-12T19:42:01.621320Z"
    },
    "papermill": {
     "duration": 10.548729,
     "end_time": "2023-07-12T19:42:01.625128",
     "exception": false,
     "start_time": "2023-07-12T19:41:51.076399",
     "status": "completed"
    },
    "tags": []
   },
   "outputs": [
    {
     "name": "stderr",
     "output_type": "stream",
     "text": [
      "/opt/conda/lib/python3.10/site-packages/tensorflow_io/python/ops/__init__.py:98: UserWarning: unable to load libtensorflow_io_plugins.so: unable to open file: libtensorflow_io_plugins.so, from paths: ['/opt/conda/lib/python3.10/site-packages/tensorflow_io/python/ops/libtensorflow_io_plugins.so']\n",
      "caused by: ['/opt/conda/lib/python3.10/site-packages/tensorflow_io/python/ops/libtensorflow_io_plugins.so: undefined symbol: _ZN3tsl6StatusC1EN10tensorflow5error4CodeESt17basic_string_viewIcSt11char_traitsIcEENS_14SourceLocationE']\n",
      "  warnings.warn(f\"unable to load libtensorflow_io_plugins.so: {e}\")\n",
      "/opt/conda/lib/python3.10/site-packages/tensorflow_io/python/ops/__init__.py:104: UserWarning: file system plugins are not loaded: unable to open file: libtensorflow_io.so, from paths: ['/opt/conda/lib/python3.10/site-packages/tensorflow_io/python/ops/libtensorflow_io.so']\n",
      "caused by: ['/opt/conda/lib/python3.10/site-packages/tensorflow_io/python/ops/libtensorflow_io.so: undefined symbol: _ZTVN10tensorflow13GcsFileSystemE']\n",
      "  warnings.warn(f\"file system plugins are not loaded: {e}\")\n"
     ]
    }
   ],
   "source": [
    "import numpy as np\n",
    "import pandas as pd\n",
    "import matplotlib.pyplot as plt\n",
    "from sklearn.model_selection import train_test_split\n",
    "\n",
    "from tensorflow import keras\n",
    "from keras.utils import np_utils\n",
    "from keras.models import Sequential\n",
    "from keras.preprocessing.image import ImageDataGenerator\n",
    "from keras.layers import Conv2D, MaxPool2D, Flatten, Dense, Dropout, BatchNormalization\n",
    "from keras.callbacks import ReduceLROnPlateau, EarlyStopping"
   ]
  },
  {
   "cell_type": "markdown",
   "id": "eedf8efb",
   "metadata": {
    "papermill": {
     "duration": 0.009187,
     "end_time": "2023-07-12T19:42:01.644149",
     "exception": false,
     "start_time": "2023-07-12T19:42:01.634962",
     "status": "completed"
    },
    "tags": []
   },
   "source": [
    "# Loading Data"
   ]
  },
  {
   "cell_type": "code",
   "execution_count": 2,
   "id": "341641b5",
   "metadata": {
    "execution": {
     "iopub.execute_input": "2023-07-12T19:42:01.665776Z",
     "iopub.status.busy": "2023-07-12T19:42:01.664302Z",
     "iopub.status.idle": "2023-07-12T19:42:07.736113Z",
     "shell.execute_reply": "2023-07-12T19:42:07.735006Z"
    },
    "papermill": {
     "duration": 6.084901,
     "end_time": "2023-07-12T19:42:07.738444",
     "exception": false,
     "start_time": "2023-07-12T19:42:01.653543",
     "status": "completed"
    },
    "tags": []
   },
   "outputs": [
    {
     "data": {
      "text/html": [
       "<div>\n",
       "<style scoped>\n",
       "    .dataframe tbody tr th:only-of-type {\n",
       "        vertical-align: middle;\n",
       "    }\n",
       "\n",
       "    .dataframe tbody tr th {\n",
       "        vertical-align: top;\n",
       "    }\n",
       "\n",
       "    .dataframe thead th {\n",
       "        text-align: right;\n",
       "    }\n",
       "</style>\n",
       "<table border=\"1\" class=\"dataframe\">\n",
       "  <thead>\n",
       "    <tr style=\"text-align: right;\">\n",
       "      <th></th>\n",
       "      <th>label</th>\n",
       "      <th>pixel0</th>\n",
       "      <th>pixel1</th>\n",
       "      <th>pixel2</th>\n",
       "      <th>pixel3</th>\n",
       "      <th>pixel4</th>\n",
       "      <th>pixel5</th>\n",
       "      <th>pixel6</th>\n",
       "      <th>pixel7</th>\n",
       "      <th>pixel8</th>\n",
       "      <th>...</th>\n",
       "      <th>pixel774</th>\n",
       "      <th>pixel775</th>\n",
       "      <th>pixel776</th>\n",
       "      <th>pixel777</th>\n",
       "      <th>pixel778</th>\n",
       "      <th>pixel779</th>\n",
       "      <th>pixel780</th>\n",
       "      <th>pixel781</th>\n",
       "      <th>pixel782</th>\n",
       "      <th>pixel783</th>\n",
       "    </tr>\n",
       "  </thead>\n",
       "  <tbody>\n",
       "    <tr>\n",
       "      <th>0</th>\n",
       "      <td>1</td>\n",
       "      <td>0</td>\n",
       "      <td>0</td>\n",
       "      <td>0</td>\n",
       "      <td>0</td>\n",
       "      <td>0</td>\n",
       "      <td>0</td>\n",
       "      <td>0</td>\n",
       "      <td>0</td>\n",
       "      <td>0</td>\n",
       "      <td>...</td>\n",
       "      <td>0</td>\n",
       "      <td>0</td>\n",
       "      <td>0</td>\n",
       "      <td>0</td>\n",
       "      <td>0</td>\n",
       "      <td>0</td>\n",
       "      <td>0</td>\n",
       "      <td>0</td>\n",
       "      <td>0</td>\n",
       "      <td>0</td>\n",
       "    </tr>\n",
       "    <tr>\n",
       "      <th>1</th>\n",
       "      <td>0</td>\n",
       "      <td>0</td>\n",
       "      <td>0</td>\n",
       "      <td>0</td>\n",
       "      <td>0</td>\n",
       "      <td>0</td>\n",
       "      <td>0</td>\n",
       "      <td>0</td>\n",
       "      <td>0</td>\n",
       "      <td>0</td>\n",
       "      <td>...</td>\n",
       "      <td>0</td>\n",
       "      <td>0</td>\n",
       "      <td>0</td>\n",
       "      <td>0</td>\n",
       "      <td>0</td>\n",
       "      <td>0</td>\n",
       "      <td>0</td>\n",
       "      <td>0</td>\n",
       "      <td>0</td>\n",
       "      <td>0</td>\n",
       "    </tr>\n",
       "    <tr>\n",
       "      <th>2</th>\n",
       "      <td>1</td>\n",
       "      <td>0</td>\n",
       "      <td>0</td>\n",
       "      <td>0</td>\n",
       "      <td>0</td>\n",
       "      <td>0</td>\n",
       "      <td>0</td>\n",
       "      <td>0</td>\n",
       "      <td>0</td>\n",
       "      <td>0</td>\n",
       "      <td>...</td>\n",
       "      <td>0</td>\n",
       "      <td>0</td>\n",
       "      <td>0</td>\n",
       "      <td>0</td>\n",
       "      <td>0</td>\n",
       "      <td>0</td>\n",
       "      <td>0</td>\n",
       "      <td>0</td>\n",
       "      <td>0</td>\n",
       "      <td>0</td>\n",
       "    </tr>\n",
       "    <tr>\n",
       "      <th>3</th>\n",
       "      <td>4</td>\n",
       "      <td>0</td>\n",
       "      <td>0</td>\n",
       "      <td>0</td>\n",
       "      <td>0</td>\n",
       "      <td>0</td>\n",
       "      <td>0</td>\n",
       "      <td>0</td>\n",
       "      <td>0</td>\n",
       "      <td>0</td>\n",
       "      <td>...</td>\n",
       "      <td>0</td>\n",
       "      <td>0</td>\n",
       "      <td>0</td>\n",
       "      <td>0</td>\n",
       "      <td>0</td>\n",
       "      <td>0</td>\n",
       "      <td>0</td>\n",
       "      <td>0</td>\n",
       "      <td>0</td>\n",
       "      <td>0</td>\n",
       "    </tr>\n",
       "    <tr>\n",
       "      <th>4</th>\n",
       "      <td>0</td>\n",
       "      <td>0</td>\n",
       "      <td>0</td>\n",
       "      <td>0</td>\n",
       "      <td>0</td>\n",
       "      <td>0</td>\n",
       "      <td>0</td>\n",
       "      <td>0</td>\n",
       "      <td>0</td>\n",
       "      <td>0</td>\n",
       "      <td>...</td>\n",
       "      <td>0</td>\n",
       "      <td>0</td>\n",
       "      <td>0</td>\n",
       "      <td>0</td>\n",
       "      <td>0</td>\n",
       "      <td>0</td>\n",
       "      <td>0</td>\n",
       "      <td>0</td>\n",
       "      <td>0</td>\n",
       "      <td>0</td>\n",
       "    </tr>\n",
       "    <tr>\n",
       "      <th>5</th>\n",
       "      <td>0</td>\n",
       "      <td>0</td>\n",
       "      <td>0</td>\n",
       "      <td>0</td>\n",
       "      <td>0</td>\n",
       "      <td>0</td>\n",
       "      <td>0</td>\n",
       "      <td>0</td>\n",
       "      <td>0</td>\n",
       "      <td>0</td>\n",
       "      <td>...</td>\n",
       "      <td>0</td>\n",
       "      <td>0</td>\n",
       "      <td>0</td>\n",
       "      <td>0</td>\n",
       "      <td>0</td>\n",
       "      <td>0</td>\n",
       "      <td>0</td>\n",
       "      <td>0</td>\n",
       "      <td>0</td>\n",
       "      <td>0</td>\n",
       "    </tr>\n",
       "    <tr>\n",
       "      <th>6</th>\n",
       "      <td>7</td>\n",
       "      <td>0</td>\n",
       "      <td>0</td>\n",
       "      <td>0</td>\n",
       "      <td>0</td>\n",
       "      <td>0</td>\n",
       "      <td>0</td>\n",
       "      <td>0</td>\n",
       "      <td>0</td>\n",
       "      <td>0</td>\n",
       "      <td>...</td>\n",
       "      <td>0</td>\n",
       "      <td>0</td>\n",
       "      <td>0</td>\n",
       "      <td>0</td>\n",
       "      <td>0</td>\n",
       "      <td>0</td>\n",
       "      <td>0</td>\n",
       "      <td>0</td>\n",
       "      <td>0</td>\n",
       "      <td>0</td>\n",
       "    </tr>\n",
       "    <tr>\n",
       "      <th>7</th>\n",
       "      <td>3</td>\n",
       "      <td>0</td>\n",
       "      <td>0</td>\n",
       "      <td>0</td>\n",
       "      <td>0</td>\n",
       "      <td>0</td>\n",
       "      <td>0</td>\n",
       "      <td>0</td>\n",
       "      <td>0</td>\n",
       "      <td>0</td>\n",
       "      <td>...</td>\n",
       "      <td>0</td>\n",
       "      <td>0</td>\n",
       "      <td>0</td>\n",
       "      <td>0</td>\n",
       "      <td>0</td>\n",
       "      <td>0</td>\n",
       "      <td>0</td>\n",
       "      <td>0</td>\n",
       "      <td>0</td>\n",
       "      <td>0</td>\n",
       "    </tr>\n",
       "    <tr>\n",
       "      <th>8</th>\n",
       "      <td>5</td>\n",
       "      <td>0</td>\n",
       "      <td>0</td>\n",
       "      <td>0</td>\n",
       "      <td>0</td>\n",
       "      <td>0</td>\n",
       "      <td>0</td>\n",
       "      <td>0</td>\n",
       "      <td>0</td>\n",
       "      <td>0</td>\n",
       "      <td>...</td>\n",
       "      <td>0</td>\n",
       "      <td>0</td>\n",
       "      <td>0</td>\n",
       "      <td>0</td>\n",
       "      <td>0</td>\n",
       "      <td>0</td>\n",
       "      <td>0</td>\n",
       "      <td>0</td>\n",
       "      <td>0</td>\n",
       "      <td>0</td>\n",
       "    </tr>\n",
       "    <tr>\n",
       "      <th>9</th>\n",
       "      <td>3</td>\n",
       "      <td>0</td>\n",
       "      <td>0</td>\n",
       "      <td>0</td>\n",
       "      <td>0</td>\n",
       "      <td>0</td>\n",
       "      <td>0</td>\n",
       "      <td>0</td>\n",
       "      <td>0</td>\n",
       "      <td>0</td>\n",
       "      <td>...</td>\n",
       "      <td>0</td>\n",
       "      <td>0</td>\n",
       "      <td>0</td>\n",
       "      <td>0</td>\n",
       "      <td>0</td>\n",
       "      <td>0</td>\n",
       "      <td>0</td>\n",
       "      <td>0</td>\n",
       "      <td>0</td>\n",
       "      <td>0</td>\n",
       "    </tr>\n",
       "  </tbody>\n",
       "</table>\n",
       "<p>10 rows × 785 columns</p>\n",
       "</div>"
      ],
      "text/plain": [
       "   label  pixel0  pixel1  pixel2  pixel3  pixel4  pixel5  pixel6  pixel7  \\\n",
       "0      1       0       0       0       0       0       0       0       0   \n",
       "1      0       0       0       0       0       0       0       0       0   \n",
       "2      1       0       0       0       0       0       0       0       0   \n",
       "3      4       0       0       0       0       0       0       0       0   \n",
       "4      0       0       0       0       0       0       0       0       0   \n",
       "5      0       0       0       0       0       0       0       0       0   \n",
       "6      7       0       0       0       0       0       0       0       0   \n",
       "7      3       0       0       0       0       0       0       0       0   \n",
       "8      5       0       0       0       0       0       0       0       0   \n",
       "9      3       0       0       0       0       0       0       0       0   \n",
       "\n",
       "   pixel8  ...  pixel774  pixel775  pixel776  pixel777  pixel778  pixel779  \\\n",
       "0       0  ...         0         0         0         0         0         0   \n",
       "1       0  ...         0         0         0         0         0         0   \n",
       "2       0  ...         0         0         0         0         0         0   \n",
       "3       0  ...         0         0         0         0         0         0   \n",
       "4       0  ...         0         0         0         0         0         0   \n",
       "5       0  ...         0         0         0         0         0         0   \n",
       "6       0  ...         0         0         0         0         0         0   \n",
       "7       0  ...         0         0         0         0         0         0   \n",
       "8       0  ...         0         0         0         0         0         0   \n",
       "9       0  ...         0         0         0         0         0         0   \n",
       "\n",
       "   pixel780  pixel781  pixel782  pixel783  \n",
       "0         0         0         0         0  \n",
       "1         0         0         0         0  \n",
       "2         0         0         0         0  \n",
       "3         0         0         0         0  \n",
       "4         0         0         0         0  \n",
       "5         0         0         0         0  \n",
       "6         0         0         0         0  \n",
       "7         0         0         0         0  \n",
       "8         0         0         0         0  \n",
       "9         0         0         0         0  \n",
       "\n",
       "[10 rows x 785 columns]"
      ]
     },
     "execution_count": 2,
     "metadata": {},
     "output_type": "execute_result"
    }
   ],
   "source": [
    "df = pd.read_csv(\"/kaggle/input/digit-recognizer/train.csv\")\n",
    "test_df = pd.read_csv(\"/kaggle/input/digit-recognizer/test.csv\")\n",
    "df.head(10)"
   ]
  },
  {
   "cell_type": "markdown",
   "id": "f3854160",
   "metadata": {
    "papermill": {
     "duration": 0.008718,
     "end_time": "2023-07-12T19:42:07.756102",
     "exception": false,
     "start_time": "2023-07-12T19:42:07.747384",
     "status": "completed"
    },
    "tags": []
   },
   "source": [
    "# Pre-processing"
   ]
  },
  {
   "cell_type": "code",
   "execution_count": 3,
   "id": "9c6e2c16",
   "metadata": {
    "execution": {
     "iopub.execute_input": "2023-07-12T19:42:07.775634Z",
     "iopub.status.busy": "2023-07-12T19:42:07.775290Z",
     "iopub.status.idle": "2023-07-12T19:42:07.862576Z",
     "shell.execute_reply": "2023-07-12T19:42:07.861325Z"
    },
    "papermill": {
     "duration": 0.100246,
     "end_time": "2023-07-12T19:42:07.865548",
     "exception": false,
     "start_time": "2023-07-12T19:42:07.765302",
     "status": "completed"
    },
    "tags": []
   },
   "outputs": [],
   "source": [
    "X = df.drop([\"label\"], axis=1)\n",
    "y = df.label"
   ]
  },
  {
   "cell_type": "markdown",
   "id": "f9ba9ff5",
   "metadata": {
    "papermill": {
     "duration": 0.009703,
     "end_time": "2023-07-12T19:42:07.885141",
     "exception": false,
     "start_time": "2023-07-12T19:42:07.875438",
     "status": "completed"
    },
    "tags": []
   },
   "source": [
    "## Splitting Data to Train and Test"
   ]
  },
  {
   "cell_type": "code",
   "execution_count": 4,
   "id": "03b8926a",
   "metadata": {
    "execution": {
     "iopub.execute_input": "2023-07-12T19:42:07.906168Z",
     "iopub.status.busy": "2023-07-12T19:42:07.904413Z",
     "iopub.status.idle": "2023-07-12T19:42:08.132785Z",
     "shell.execute_reply": "2023-07-12T19:42:08.131773Z"
    },
    "papermill": {
     "duration": 0.240954,
     "end_time": "2023-07-12T19:42:08.135273",
     "exception": false,
     "start_time": "2023-07-12T19:42:07.894319",
     "status": "completed"
    },
    "tags": []
   },
   "outputs": [
    {
     "data": {
      "text/html": [
       "<div>\n",
       "<style scoped>\n",
       "    .dataframe tbody tr th:only-of-type {\n",
       "        vertical-align: middle;\n",
       "    }\n",
       "\n",
       "    .dataframe tbody tr th {\n",
       "        vertical-align: top;\n",
       "    }\n",
       "\n",
       "    .dataframe thead th {\n",
       "        text-align: right;\n",
       "    }\n",
       "</style>\n",
       "<table border=\"1\" class=\"dataframe\">\n",
       "  <thead>\n",
       "    <tr style=\"text-align: right;\">\n",
       "      <th></th>\n",
       "      <th>pixel0</th>\n",
       "      <th>pixel1</th>\n",
       "      <th>pixel2</th>\n",
       "      <th>pixel3</th>\n",
       "      <th>pixel4</th>\n",
       "      <th>pixel5</th>\n",
       "      <th>pixel6</th>\n",
       "      <th>pixel7</th>\n",
       "      <th>pixel8</th>\n",
       "      <th>pixel9</th>\n",
       "      <th>...</th>\n",
       "      <th>pixel774</th>\n",
       "      <th>pixel775</th>\n",
       "      <th>pixel776</th>\n",
       "      <th>pixel777</th>\n",
       "      <th>pixel778</th>\n",
       "      <th>pixel779</th>\n",
       "      <th>pixel780</th>\n",
       "      <th>pixel781</th>\n",
       "      <th>pixel782</th>\n",
       "      <th>pixel783</th>\n",
       "    </tr>\n",
       "  </thead>\n",
       "  <tbody>\n",
       "    <tr>\n",
       "      <th>34941</th>\n",
       "      <td>0</td>\n",
       "      <td>0</td>\n",
       "      <td>0</td>\n",
       "      <td>0</td>\n",
       "      <td>0</td>\n",
       "      <td>0</td>\n",
       "      <td>0</td>\n",
       "      <td>0</td>\n",
       "      <td>0</td>\n",
       "      <td>0</td>\n",
       "      <td>...</td>\n",
       "      <td>0</td>\n",
       "      <td>0</td>\n",
       "      <td>0</td>\n",
       "      <td>0</td>\n",
       "      <td>0</td>\n",
       "      <td>0</td>\n",
       "      <td>0</td>\n",
       "      <td>0</td>\n",
       "      <td>0</td>\n",
       "      <td>0</td>\n",
       "    </tr>\n",
       "    <tr>\n",
       "      <th>24433</th>\n",
       "      <td>0</td>\n",
       "      <td>0</td>\n",
       "      <td>0</td>\n",
       "      <td>0</td>\n",
       "      <td>0</td>\n",
       "      <td>0</td>\n",
       "      <td>0</td>\n",
       "      <td>0</td>\n",
       "      <td>0</td>\n",
       "      <td>0</td>\n",
       "      <td>...</td>\n",
       "      <td>0</td>\n",
       "      <td>0</td>\n",
       "      <td>0</td>\n",
       "      <td>0</td>\n",
       "      <td>0</td>\n",
       "      <td>0</td>\n",
       "      <td>0</td>\n",
       "      <td>0</td>\n",
       "      <td>0</td>\n",
       "      <td>0</td>\n",
       "    </tr>\n",
       "    <tr>\n",
       "      <th>24432</th>\n",
       "      <td>0</td>\n",
       "      <td>0</td>\n",
       "      <td>0</td>\n",
       "      <td>0</td>\n",
       "      <td>0</td>\n",
       "      <td>0</td>\n",
       "      <td>0</td>\n",
       "      <td>0</td>\n",
       "      <td>0</td>\n",
       "      <td>0</td>\n",
       "      <td>...</td>\n",
       "      <td>0</td>\n",
       "      <td>0</td>\n",
       "      <td>0</td>\n",
       "      <td>0</td>\n",
       "      <td>0</td>\n",
       "      <td>0</td>\n",
       "      <td>0</td>\n",
       "      <td>0</td>\n",
       "      <td>0</td>\n",
       "      <td>0</td>\n",
       "    </tr>\n",
       "    <tr>\n",
       "      <th>8832</th>\n",
       "      <td>0</td>\n",
       "      <td>0</td>\n",
       "      <td>0</td>\n",
       "      <td>0</td>\n",
       "      <td>0</td>\n",
       "      <td>0</td>\n",
       "      <td>0</td>\n",
       "      <td>0</td>\n",
       "      <td>0</td>\n",
       "      <td>0</td>\n",
       "      <td>...</td>\n",
       "      <td>0</td>\n",
       "      <td>0</td>\n",
       "      <td>0</td>\n",
       "      <td>0</td>\n",
       "      <td>0</td>\n",
       "      <td>0</td>\n",
       "      <td>0</td>\n",
       "      <td>0</td>\n",
       "      <td>0</td>\n",
       "      <td>0</td>\n",
       "    </tr>\n",
       "    <tr>\n",
       "      <th>30291</th>\n",
       "      <td>0</td>\n",
       "      <td>0</td>\n",
       "      <td>0</td>\n",
       "      <td>0</td>\n",
       "      <td>0</td>\n",
       "      <td>0</td>\n",
       "      <td>0</td>\n",
       "      <td>0</td>\n",
       "      <td>0</td>\n",
       "      <td>0</td>\n",
       "      <td>...</td>\n",
       "      <td>0</td>\n",
       "      <td>0</td>\n",
       "      <td>0</td>\n",
       "      <td>0</td>\n",
       "      <td>0</td>\n",
       "      <td>0</td>\n",
       "      <td>0</td>\n",
       "      <td>0</td>\n",
       "      <td>0</td>\n",
       "      <td>0</td>\n",
       "    </tr>\n",
       "    <tr>\n",
       "      <th>...</th>\n",
       "      <td>...</td>\n",
       "      <td>...</td>\n",
       "      <td>...</td>\n",
       "      <td>...</td>\n",
       "      <td>...</td>\n",
       "      <td>...</td>\n",
       "      <td>...</td>\n",
       "      <td>...</td>\n",
       "      <td>...</td>\n",
       "      <td>...</td>\n",
       "      <td>...</td>\n",
       "      <td>...</td>\n",
       "      <td>...</td>\n",
       "      <td>...</td>\n",
       "      <td>...</td>\n",
       "      <td>...</td>\n",
       "      <td>...</td>\n",
       "      <td>...</td>\n",
       "      <td>...</td>\n",
       "      <td>...</td>\n",
       "      <td>...</td>\n",
       "    </tr>\n",
       "    <tr>\n",
       "      <th>6265</th>\n",
       "      <td>0</td>\n",
       "      <td>0</td>\n",
       "      <td>0</td>\n",
       "      <td>0</td>\n",
       "      <td>0</td>\n",
       "      <td>0</td>\n",
       "      <td>0</td>\n",
       "      <td>0</td>\n",
       "      <td>0</td>\n",
       "      <td>0</td>\n",
       "      <td>...</td>\n",
       "      <td>0</td>\n",
       "      <td>0</td>\n",
       "      <td>0</td>\n",
       "      <td>0</td>\n",
       "      <td>0</td>\n",
       "      <td>0</td>\n",
       "      <td>0</td>\n",
       "      <td>0</td>\n",
       "      <td>0</td>\n",
       "      <td>0</td>\n",
       "    </tr>\n",
       "    <tr>\n",
       "      <th>11284</th>\n",
       "      <td>0</td>\n",
       "      <td>0</td>\n",
       "      <td>0</td>\n",
       "      <td>0</td>\n",
       "      <td>0</td>\n",
       "      <td>0</td>\n",
       "      <td>0</td>\n",
       "      <td>0</td>\n",
       "      <td>0</td>\n",
       "      <td>0</td>\n",
       "      <td>...</td>\n",
       "      <td>0</td>\n",
       "      <td>0</td>\n",
       "      <td>0</td>\n",
       "      <td>0</td>\n",
       "      <td>0</td>\n",
       "      <td>0</td>\n",
       "      <td>0</td>\n",
       "      <td>0</td>\n",
       "      <td>0</td>\n",
       "      <td>0</td>\n",
       "    </tr>\n",
       "    <tr>\n",
       "      <th>38158</th>\n",
       "      <td>0</td>\n",
       "      <td>0</td>\n",
       "      <td>0</td>\n",
       "      <td>0</td>\n",
       "      <td>0</td>\n",
       "      <td>0</td>\n",
       "      <td>0</td>\n",
       "      <td>0</td>\n",
       "      <td>0</td>\n",
       "      <td>0</td>\n",
       "      <td>...</td>\n",
       "      <td>0</td>\n",
       "      <td>0</td>\n",
       "      <td>0</td>\n",
       "      <td>0</td>\n",
       "      <td>0</td>\n",
       "      <td>0</td>\n",
       "      <td>0</td>\n",
       "      <td>0</td>\n",
       "      <td>0</td>\n",
       "      <td>0</td>\n",
       "    </tr>\n",
       "    <tr>\n",
       "      <th>860</th>\n",
       "      <td>0</td>\n",
       "      <td>0</td>\n",
       "      <td>0</td>\n",
       "      <td>0</td>\n",
       "      <td>0</td>\n",
       "      <td>0</td>\n",
       "      <td>0</td>\n",
       "      <td>0</td>\n",
       "      <td>0</td>\n",
       "      <td>0</td>\n",
       "      <td>...</td>\n",
       "      <td>0</td>\n",
       "      <td>0</td>\n",
       "      <td>0</td>\n",
       "      <td>0</td>\n",
       "      <td>0</td>\n",
       "      <td>0</td>\n",
       "      <td>0</td>\n",
       "      <td>0</td>\n",
       "      <td>0</td>\n",
       "      <td>0</td>\n",
       "    </tr>\n",
       "    <tr>\n",
       "      <th>15795</th>\n",
       "      <td>0</td>\n",
       "      <td>0</td>\n",
       "      <td>0</td>\n",
       "      <td>0</td>\n",
       "      <td>0</td>\n",
       "      <td>0</td>\n",
       "      <td>0</td>\n",
       "      <td>0</td>\n",
       "      <td>0</td>\n",
       "      <td>0</td>\n",
       "      <td>...</td>\n",
       "      <td>0</td>\n",
       "      <td>0</td>\n",
       "      <td>0</td>\n",
       "      <td>0</td>\n",
       "      <td>0</td>\n",
       "      <td>0</td>\n",
       "      <td>0</td>\n",
       "      <td>0</td>\n",
       "      <td>0</td>\n",
       "      <td>0</td>\n",
       "    </tr>\n",
       "  </tbody>\n",
       "</table>\n",
       "<p>33600 rows × 784 columns</p>\n",
       "</div>"
      ],
      "text/plain": [
       "       pixel0  pixel1  pixel2  pixel3  pixel4  pixel5  pixel6  pixel7  pixel8  \\\n",
       "34941       0       0       0       0       0       0       0       0       0   \n",
       "24433       0       0       0       0       0       0       0       0       0   \n",
       "24432       0       0       0       0       0       0       0       0       0   \n",
       "8832        0       0       0       0       0       0       0       0       0   \n",
       "30291       0       0       0       0       0       0       0       0       0   \n",
       "...       ...     ...     ...     ...     ...     ...     ...     ...     ...   \n",
       "6265        0       0       0       0       0       0       0       0       0   \n",
       "11284       0       0       0       0       0       0       0       0       0   \n",
       "38158       0       0       0       0       0       0       0       0       0   \n",
       "860         0       0       0       0       0       0       0       0       0   \n",
       "15795       0       0       0       0       0       0       0       0       0   \n",
       "\n",
       "       pixel9  ...  pixel774  pixel775  pixel776  pixel777  pixel778  \\\n",
       "34941       0  ...         0         0         0         0         0   \n",
       "24433       0  ...         0         0         0         0         0   \n",
       "24432       0  ...         0         0         0         0         0   \n",
       "8832        0  ...         0         0         0         0         0   \n",
       "30291       0  ...         0         0         0         0         0   \n",
       "...       ...  ...       ...       ...       ...       ...       ...   \n",
       "6265        0  ...         0         0         0         0         0   \n",
       "11284       0  ...         0         0         0         0         0   \n",
       "38158       0  ...         0         0         0         0         0   \n",
       "860         0  ...         0         0         0         0         0   \n",
       "15795       0  ...         0         0         0         0         0   \n",
       "\n",
       "       pixel779  pixel780  pixel781  pixel782  pixel783  \n",
       "34941         0         0         0         0         0  \n",
       "24433         0         0         0         0         0  \n",
       "24432         0         0         0         0         0  \n",
       "8832          0         0         0         0         0  \n",
       "30291         0         0         0         0         0  \n",
       "...         ...       ...       ...       ...       ...  \n",
       "6265          0         0         0         0         0  \n",
       "11284         0         0         0         0         0  \n",
       "38158         0         0         0         0         0  \n",
       "860           0         0         0         0         0  \n",
       "15795         0         0         0         0         0  \n",
       "\n",
       "[33600 rows x 784 columns]"
      ]
     },
     "execution_count": 4,
     "metadata": {},
     "output_type": "execute_result"
    }
   ],
   "source": [
    "x_train, x_test, y_train, y_test = train_test_split(X, y, test_size=0.2, random_state=42)\n",
    "x_train"
   ]
  },
  {
   "cell_type": "markdown",
   "id": "8b92113c",
   "metadata": {
    "papermill": {
     "duration": 0.009511,
     "end_time": "2023-07-12T19:42:08.155486",
     "exception": false,
     "start_time": "2023-07-12T19:42:08.145975",
     "status": "completed"
    },
    "tags": []
   },
   "source": [
    "## Normalization"
   ]
  },
  {
   "cell_type": "code",
   "execution_count": 5,
   "id": "b8e64b3c",
   "metadata": {
    "execution": {
     "iopub.execute_input": "2023-07-12T19:42:08.175927Z",
     "iopub.status.busy": "2023-07-12T19:42:08.175628Z",
     "iopub.status.idle": "2023-07-12T19:42:08.344398Z",
     "shell.execute_reply": "2023-07-12T19:42:08.343368Z"
    },
    "papermill": {
     "duration": 0.182538,
     "end_time": "2023-07-12T19:42:08.347299",
     "exception": false,
     "start_time": "2023-07-12T19:42:08.164761",
     "status": "completed"
    },
    "tags": []
   },
   "outputs": [],
   "source": [
    "x_train = x_train.astype('float32')\n",
    "x_test = x_test.astype('float32')\n",
    "x_train /= 255.0\n",
    "x_test /= 255.0"
   ]
  },
  {
   "cell_type": "markdown",
   "id": "b47b6005",
   "metadata": {
    "papermill": {
     "duration": 0.009204,
     "end_time": "2023-07-12T19:42:08.366507",
     "exception": false,
     "start_time": "2023-07-12T19:42:08.357303",
     "status": "completed"
    },
    "tags": []
   },
   "source": [
    "## One_Hot Encoding"
   ]
  },
  {
   "cell_type": "code",
   "execution_count": 6,
   "id": "74fcbf2d",
   "metadata": {
    "execution": {
     "iopub.execute_input": "2023-07-12T19:42:08.387912Z",
     "iopub.status.busy": "2023-07-12T19:42:08.387583Z",
     "iopub.status.idle": "2023-07-12T19:42:08.397407Z",
     "shell.execute_reply": "2023-07-12T19:42:08.396241Z"
    },
    "papermill": {
     "duration": 0.023522,
     "end_time": "2023-07-12T19:42:08.400049",
     "exception": false,
     "start_time": "2023-07-12T19:42:08.376527",
     "status": "completed"
    },
    "tags": []
   },
   "outputs": [
    {
     "data": {
      "text/plain": [
       "((33600, 10), (8400, 10), (33600, 784), (8400, 784))"
      ]
     },
     "execution_count": 6,
     "metadata": {},
     "output_type": "execute_result"
    }
   ],
   "source": [
    "# one_hot encoding\n",
    "y_train = np_utils.to_categorical(y_train)\n",
    "y_test = np_utils.to_categorical(y_test)\n",
    "y_train.shape, y_test.shape, x_train.shape, x_test.shape"
   ]
  },
  {
   "cell_type": "markdown",
   "id": "185dea5e",
   "metadata": {
    "papermill": {
     "duration": 0.009872,
     "end_time": "2023-07-12T19:42:08.420511",
     "exception": false,
     "start_time": "2023-07-12T19:42:08.410639",
     "status": "completed"
    },
    "tags": []
   },
   "source": [
    "## Reshaping to 3D "
   ]
  },
  {
   "cell_type": "code",
   "execution_count": 7,
   "id": "71c51c8a",
   "metadata": {
    "execution": {
     "iopub.execute_input": "2023-07-12T19:42:08.441493Z",
     "iopub.status.busy": "2023-07-12T19:42:08.441155Z",
     "iopub.status.idle": "2023-07-12T19:42:08.446262Z",
     "shell.execute_reply": "2023-07-12T19:42:08.445235Z"
    },
    "papermill": {
     "duration": 0.021329,
     "end_time": "2023-07-12T19:42:08.451433",
     "exception": false,
     "start_time": "2023-07-12T19:42:08.430104",
     "status": "completed"
    },
    "tags": []
   },
   "outputs": [],
   "source": [
    "x_train = x_train.values.reshape(-1,28,28,1)\n",
    "x_test = x_test.values.reshape(-1,28,28,1)"
   ]
  },
  {
   "cell_type": "markdown",
   "id": "3ebffc9a",
   "metadata": {
    "papermill": {
     "duration": 0.009475,
     "end_time": "2023-07-12T19:42:08.470813",
     "exception": false,
     "start_time": "2023-07-12T19:42:08.461338",
     "status": "completed"
    },
    "tags": []
   },
   "source": [
    "# Augmentation"
   ]
  },
  {
   "cell_type": "code",
   "execution_count": 8,
   "id": "ed86af52",
   "metadata": {
    "execution": {
     "iopub.execute_input": "2023-07-12T19:42:08.493214Z",
     "iopub.status.busy": "2023-07-12T19:42:08.492890Z",
     "iopub.status.idle": "2023-07-12T19:42:08.498468Z",
     "shell.execute_reply": "2023-07-12T19:42:08.497439Z"
    },
    "papermill": {
     "duration": 0.019021,
     "end_time": "2023-07-12T19:42:08.501107",
     "exception": false,
     "start_time": "2023-07-12T19:42:08.482086",
     "status": "completed"
    },
    "tags": []
   },
   "outputs": [],
   "source": [
    "datagen = ImageDataGenerator(\n",
    "    rotation_range=45,      # Rotate images by a random angle within +/- 45 degrees\n",
    "    width_shift_range=0.2,  # Shift images horizontally by a fraction of the total width\n",
    "    height_shift_range=0.2, # Shift images vertically by a fraction of the total height\n",
    "    shear_range=0.1,        # Apply shear transformations within +/- 10 degrees\n",
    "    zoom_range=0.1,         # Zoom in/out on images by a factor of +/- 10%\n",
    "    horizontal_flip=False,  # Do not flip images horizontally\n",
    "    vertical_flip=False,    # Do not flip images vertically\n",
    "    fill_mode='nearest'    \n",
    ")"
   ]
  },
  {
   "cell_type": "code",
   "execution_count": 9,
   "id": "b7a413a6",
   "metadata": {
    "execution": {
     "iopub.execute_input": "2023-07-12T19:42:08.521404Z",
     "iopub.status.busy": "2023-07-12T19:42:08.521137Z",
     "iopub.status.idle": "2023-07-12T19:42:08.797767Z",
     "shell.execute_reply": "2023-07-12T19:42:08.796699Z"
    },
    "papermill": {
     "duration": 0.289663,
     "end_time": "2023-07-12T19:42:08.800392",
     "exception": false,
     "start_time": "2023-07-12T19:42:08.510729",
     "status": "completed"
    },
    "tags": []
   },
   "outputs": [],
   "source": [
    "datagen.fit(x_train)\n",
    "augmented_data = datagen.flow(x_train,y_train, batch_size=128, shuffle=False)\n",
    "x_train_aug, y_train_aug = augmented_data.next()\n",
    "x_train_final = np.concatenate((x_train, x_train_aug))\n",
    "y_train_final = np.concatenate((y_train, y_train_aug))"
   ]
  },
  {
   "cell_type": "code",
   "execution_count": 10,
   "id": "af39ee40",
   "metadata": {
    "execution": {
     "iopub.execute_input": "2023-07-12T19:42:08.821690Z",
     "iopub.status.busy": "2023-07-12T19:42:08.821375Z",
     "iopub.status.idle": "2023-07-12T19:42:08.827798Z",
     "shell.execute_reply": "2023-07-12T19:42:08.826861Z"
    },
    "papermill": {
     "duration": 0.019802,
     "end_time": "2023-07-12T19:42:08.830167",
     "exception": false,
     "start_time": "2023-07-12T19:42:08.810365",
     "status": "completed"
    },
    "tags": []
   },
   "outputs": [
    {
     "data": {
      "text/plain": [
       "10"
      ]
     },
     "execution_count": 10,
     "metadata": {},
     "output_type": "execute_result"
    }
   ],
   "source": [
    "class_num = y_train.shape[1]\n",
    "class_num"
   ]
  },
  {
   "cell_type": "markdown",
   "id": "ce28a3ac",
   "metadata": {
    "papermill": {
     "duration": 0.009692,
     "end_time": "2023-07-12T19:42:08.849849",
     "exception": false,
     "start_time": "2023-07-12T19:42:08.840157",
     "status": "completed"
    },
    "tags": []
   },
   "source": [
    "# Building The Model"
   ]
  },
  {
   "cell_type": "code",
   "execution_count": 11,
   "id": "1199c3db",
   "metadata": {
    "execution": {
     "iopub.execute_input": "2023-07-12T19:42:08.870706Z",
     "iopub.status.busy": "2023-07-12T19:42:08.870425Z",
     "iopub.status.idle": "2023-07-12T19:42:13.440393Z",
     "shell.execute_reply": "2023-07-12T19:42:13.439441Z"
    },
    "papermill": {
     "duration": 4.583336,
     "end_time": "2023-07-12T19:42:13.442960",
     "exception": false,
     "start_time": "2023-07-12T19:42:08.859624",
     "status": "completed"
    },
    "tags": []
   },
   "outputs": [],
   "source": [
    "model = Sequential()\n",
    "\n",
    "model.add(Conv2D(32, (5,5), activation='relu', input_shape=x_train.shape[1:]))\n",
    "model.add(Conv2D(64, (5,5), activation='relu'))\n",
    "model.add(MaxPool2D())\n",
    "model.add(Dropout(0.3))\n",
    "\n",
    "model.add(Conv2D(128, (3,3), activation='relu'))\n",
    "model.add(MaxPool2D())\n",
    "model.add(Dropout(0.3))\n",
    "\n",
    "model.add(Conv2D(256, (3,3), activation='relu'))\n",
    "model.add(MaxPool2D())\n",
    "model.add(Dropout(0.3))\n",
    "model.add(BatchNormalization())\n",
    "\n",
    "model.add(Flatten())\n",
    "\n",
    "model.add(Dense(32, activation='relu'))\n",
    "model.add(Dropout(0.3))\n",
    "\n",
    "model.add(Dense(class_num, activation='softmax'))\n",
    "\n",
    "model.build()"
   ]
  },
  {
   "cell_type": "markdown",
   "id": "fc63e7d4",
   "metadata": {
    "papermill": {
     "duration": 0.009363,
     "end_time": "2023-07-12T19:42:13.461974",
     "exception": false,
     "start_time": "2023-07-12T19:42:13.452611",
     "status": "completed"
    },
    "tags": []
   },
   "source": [
    "## Compiling The Model"
   ]
  },
  {
   "cell_type": "code",
   "execution_count": 12,
   "id": "d19b58db",
   "metadata": {
    "execution": {
     "iopub.execute_input": "2023-07-12T19:42:13.486550Z",
     "iopub.status.busy": "2023-07-12T19:42:13.484414Z",
     "iopub.status.idle": "2023-07-12T19:42:13.535267Z",
     "shell.execute_reply": "2023-07-12T19:42:13.534293Z"
    },
    "papermill": {
     "duration": 0.094151,
     "end_time": "2023-07-12T19:42:13.565520",
     "exception": false,
     "start_time": "2023-07-12T19:42:13.471369",
     "status": "completed"
    },
    "tags": []
   },
   "outputs": [
    {
     "name": "stdout",
     "output_type": "stream",
     "text": [
      "Model: \"sequential\"\n",
      "_________________________________________________________________\n",
      " Layer (type)                Output Shape              Param #   \n",
      "=================================================================\n",
      " conv2d (Conv2D)             (None, 24, 24, 32)        832       \n",
      "                                                                 \n",
      " conv2d_1 (Conv2D)           (None, 20, 20, 64)        51264     \n",
      "                                                                 \n",
      " max_pooling2d (MaxPooling2D  (None, 10, 10, 64)       0         \n",
      " )                                                               \n",
      "                                                                 \n",
      " dropout (Dropout)           (None, 10, 10, 64)        0         \n",
      "                                                                 \n",
      " conv2d_2 (Conv2D)           (None, 8, 8, 128)         73856     \n",
      "                                                                 \n",
      " max_pooling2d_1 (MaxPooling  (None, 4, 4, 128)        0         \n",
      " 2D)                                                             \n",
      "                                                                 \n",
      " dropout_1 (Dropout)         (None, 4, 4, 128)         0         \n",
      "                                                                 \n",
      " conv2d_3 (Conv2D)           (None, 2, 2, 256)         295168    \n",
      "                                                                 \n",
      " max_pooling2d_2 (MaxPooling  (None, 1, 1, 256)        0         \n",
      " 2D)                                                             \n",
      "                                                                 \n",
      " dropout_2 (Dropout)         (None, 1, 1, 256)         0         \n",
      "                                                                 \n",
      " batch_normalization (BatchN  (None, 1, 1, 256)        1024      \n",
      " ormalization)                                                   \n",
      "                                                                 \n",
      " flatten (Flatten)           (None, 256)               0         \n",
      "                                                                 \n",
      " dense (Dense)               (None, 32)                8224      \n",
      "                                                                 \n",
      " dropout_3 (Dropout)         (None, 32)                0         \n",
      "                                                                 \n",
      " dense_1 (Dense)             (None, 10)                330       \n",
      "                                                                 \n",
      "=================================================================\n",
      "Total params: 430,698\n",
      "Trainable params: 430,186\n",
      "Non-trainable params: 512\n",
      "_________________________________________________________________\n"
     ]
    }
   ],
   "source": [
    "model.compile(loss='categorical_crossentropy', optimizer='adam', metrics=['accuracy'])\n",
    "model.summary()"
   ]
  },
  {
   "cell_type": "markdown",
   "id": "8dda324e",
   "metadata": {
    "papermill": {
     "duration": 0.012686,
     "end_time": "2023-07-12T19:42:13.591591",
     "exception": false,
     "start_time": "2023-07-12T19:42:13.578905",
     "status": "completed"
    },
    "tags": []
   },
   "source": [
    "## Callbacks"
   ]
  },
  {
   "cell_type": "code",
   "execution_count": 13,
   "id": "dfcf8896",
   "metadata": {
    "execution": {
     "iopub.execute_input": "2023-07-12T19:42:13.620230Z",
     "iopub.status.busy": "2023-07-12T19:42:13.619797Z",
     "iopub.status.idle": "2023-07-12T19:42:13.624644Z",
     "shell.execute_reply": "2023-07-12T19:42:13.623851Z"
    },
    "papermill": {
     "duration": 0.021392,
     "end_time": "2023-07-12T19:42:13.626726",
     "exception": false,
     "start_time": "2023-07-12T19:42:13.605334",
     "status": "completed"
    },
    "tags": []
   },
   "outputs": [],
   "source": [
    "reduce_lr = ReduceLROnPlateau(\n",
    "    monitor = \"val_accuracy\", \n",
    "    patience = 2,\n",
    "    verbose = 1, \n",
    "    factor = 0.5, \n",
    "    min_lr = 0.0000001\n",
    ")\n",
    "\n",
    "early_stopping = EarlyStopping(\n",
    "    monitor = \"val_accuracy\",\n",
    "    patience = 5,\n",
    "    verbose = 1,\n",
    "    mode = \"max\",\n",
    ")"
   ]
  },
  {
   "cell_type": "markdown",
   "id": "0c50b05e",
   "metadata": {
    "papermill": {
     "duration": 0.012843,
     "end_time": "2023-07-12T19:42:13.652719",
     "exception": false,
     "start_time": "2023-07-12T19:42:13.639876",
     "status": "completed"
    },
    "tags": []
   },
   "source": [
    "## Fitting The Model"
   ]
  },
  {
   "cell_type": "code",
   "execution_count": 14,
   "id": "e5169eb2",
   "metadata": {
    "execution": {
     "iopub.execute_input": "2023-07-12T19:42:13.679623Z",
     "iopub.status.busy": "2023-07-12T19:42:13.679331Z",
     "iopub.status.idle": "2023-07-12T19:43:45.162178Z",
     "shell.execute_reply": "2023-07-12T19:43:45.161099Z"
    },
    "papermill": {
     "duration": 91.499255,
     "end_time": "2023-07-12T19:43:45.164625",
     "exception": false,
     "start_time": "2023-07-12T19:42:13.665370",
     "status": "completed"
    },
    "tags": []
   },
   "outputs": [
    {
     "name": "stdout",
     "output_type": "stream",
     "text": [
      "Epoch 1/30\n"
     ]
    },
    {
     "name": "stderr",
     "output_type": "stream",
     "text": [
      "2023-07-12 19:42:15.317497: E tensorflow/core/grappler/optimizers/meta_optimizer.cc:954] layout failed: INVALID_ARGUMENT: Size of values 0 does not match size of permutation 4 @ fanin shape insequential/dropout/dropout/SelectV2-2-TransposeNHWCToNCHW-LayoutOptimizer\n"
     ]
    },
    {
     "name": "stdout",
     "output_type": "stream",
     "text": [
      "262/262 [==============================] - 15s 12ms/step - loss: 0.5339 - accuracy: 0.8344 - val_loss: 0.1971 - val_accuracy: 0.9820 - lr: 0.0010\n",
      "Epoch 2/30\n",
      "262/262 [==============================] - 3s 12ms/step - loss: 0.1353 - accuracy: 0.9630 - val_loss: 0.0532 - val_accuracy: 0.9850 - lr: 0.0010\n",
      "Epoch 3/30\n",
      "262/262 [==============================] - 3s 11ms/step - loss: 0.0991 - accuracy: 0.9732 - val_loss: 0.0393 - val_accuracy: 0.9874 - lr: 0.0010\n",
      "Epoch 4/30\n",
      "262/262 [==============================] - 3s 11ms/step - loss: 0.0835 - accuracy: 0.9776 - val_loss: 0.0339 - val_accuracy: 0.9901 - lr: 0.0010\n",
      "Epoch 5/30\n",
      "262/262 [==============================] - 3s 11ms/step - loss: 0.0732 - accuracy: 0.9798 - val_loss: 0.0416 - val_accuracy: 0.9880 - lr: 0.0010\n",
      "Epoch 6/30\n",
      "262/262 [==============================] - 3s 11ms/step - loss: 0.0625 - accuracy: 0.9835 - val_loss: 0.0344 - val_accuracy: 0.9904 - lr: 0.0010\n",
      "Epoch 7/30\n",
      "262/262 [==============================] - 3s 11ms/step - loss: 0.0580 - accuracy: 0.9838 - val_loss: 0.0309 - val_accuracy: 0.9906 - lr: 0.0010\n",
      "Epoch 8/30\n",
      "262/262 [==============================] - 3s 11ms/step - loss: 0.0549 - accuracy: 0.9850 - val_loss: 0.0274 - val_accuracy: 0.9911 - lr: 0.0010\n",
      "Epoch 9/30\n",
      "262/262 [==============================] - 3s 12ms/step - loss: 0.0503 - accuracy: 0.9859 - val_loss: 0.0292 - val_accuracy: 0.9903 - lr: 0.0010\n",
      "Epoch 10/30\n",
      "262/262 [==============================] - 3s 12ms/step - loss: 0.0458 - accuracy: 0.9868 - val_loss: 0.0232 - val_accuracy: 0.9929 - lr: 0.0010\n",
      "Epoch 11/30\n",
      "262/262 [==============================] - 3s 11ms/step - loss: 0.0404 - accuracy: 0.9886 - val_loss: 0.0281 - val_accuracy: 0.9910 - lr: 0.0010\n",
      "Epoch 12/30\n",
      "258/262 [============================>.] - ETA: 0s - loss: 0.0435 - accuracy: 0.9882\n",
      "Epoch 12: ReduceLROnPlateau reducing learning rate to 0.0005000000237487257.\n",
      "262/262 [==============================] - 3s 11ms/step - loss: 0.0432 - accuracy: 0.9882 - val_loss: 0.0309 - val_accuracy: 0.9906 - lr: 0.0010\n",
      "Epoch 13/30\n",
      "262/262 [==============================] - 3s 12ms/step - loss: 0.0340 - accuracy: 0.9904 - val_loss: 0.0203 - val_accuracy: 0.9945 - lr: 5.0000e-04\n",
      "Epoch 14/30\n",
      "262/262 [==============================] - 3s 12ms/step - loss: 0.0290 - accuracy: 0.9925 - val_loss: 0.0250 - val_accuracy: 0.9924 - lr: 5.0000e-04\n",
      "Epoch 15/30\n",
      "260/262 [============================>.] - ETA: 0s - loss: 0.0266 - accuracy: 0.9930\n",
      "Epoch 15: ReduceLROnPlateau reducing learning rate to 0.0002500000118743628.\n",
      "262/262 [==============================] - 3s 11ms/step - loss: 0.0267 - accuracy: 0.9929 - val_loss: 0.0196 - val_accuracy: 0.9939 - lr: 5.0000e-04\n",
      "Epoch 16/30\n",
      "262/262 [==============================] - 3s 11ms/step - loss: 0.0199 - accuracy: 0.9940 - val_loss: 0.0194 - val_accuracy: 0.9946 - lr: 2.5000e-04\n",
      "Epoch 17/30\n",
      "262/262 [==============================] - 3s 11ms/step - loss: 0.0195 - accuracy: 0.9947 - val_loss: 0.0193 - val_accuracy: 0.9945 - lr: 2.5000e-04\n",
      "Epoch 18/30\n",
      "261/262 [============================>.] - ETA: 0s - loss: 0.0193 - accuracy: 0.9946\n",
      "Epoch 18: ReduceLROnPlateau reducing learning rate to 0.0001250000059371814.\n",
      "262/262 [==============================] - 3s 11ms/step - loss: 0.0193 - accuracy: 0.9946 - val_loss: 0.0191 - val_accuracy: 0.9945 - lr: 2.5000e-04\n",
      "Epoch 19/30\n",
      "262/262 [==============================] - 3s 13ms/step - loss: 0.0171 - accuracy: 0.9950 - val_loss: 0.0197 - val_accuracy: 0.9946 - lr: 1.2500e-04\n",
      "Epoch 20/30\n",
      "257/262 [============================>.] - ETA: 0s - loss: 0.0159 - accuracy: 0.9957\n",
      "Epoch 20: ReduceLROnPlateau reducing learning rate to 6.25000029685907e-05.\n",
      "262/262 [==============================] - 3s 12ms/step - loss: 0.0158 - accuracy: 0.9957 - val_loss: 0.0199 - val_accuracy: 0.9946 - lr: 1.2500e-04\n",
      "Epoch 21/30\n",
      "262/262 [==============================] - 3s 11ms/step - loss: 0.0148 - accuracy: 0.9957 - val_loss: 0.0188 - val_accuracy: 0.9953 - lr: 6.2500e-05\n",
      "Epoch 22/30\n",
      "262/262 [==============================] - 3s 12ms/step - loss: 0.0152 - accuracy: 0.9962 - val_loss: 0.0196 - val_accuracy: 0.9947 - lr: 6.2500e-05\n",
      "Epoch 23/30\n",
      "258/262 [============================>.] - ETA: 0s - loss: 0.0127 - accuracy: 0.9960\n",
      "Epoch 23: ReduceLROnPlateau reducing learning rate to 3.125000148429535e-05.\n",
      "262/262 [==============================] - 3s 12ms/step - loss: 0.0129 - accuracy: 0.9960 - val_loss: 0.0190 - val_accuracy: 0.9951 - lr: 6.2500e-05\n",
      "Epoch 24/30\n",
      "262/262 [==============================] - 3s 12ms/step - loss: 0.0132 - accuracy: 0.9961 - val_loss: 0.0192 - val_accuracy: 0.9951 - lr: 3.1250e-05\n",
      "Epoch 25/30\n",
      "262/262 [==============================] - ETA: 0s - loss: 0.0144 - accuracy: 0.9958\n",
      "Epoch 25: ReduceLROnPlateau reducing learning rate to 1.5625000742147677e-05.\n",
      "262/262 [==============================] - 3s 11ms/step - loss: 0.0144 - accuracy: 0.9958 - val_loss: 0.0193 - val_accuracy: 0.9951 - lr: 3.1250e-05\n",
      "Epoch 26/30\n",
      "262/262 [==============================] - 3s 12ms/step - loss: 0.0133 - accuracy: 0.9962 - val_loss: 0.0194 - val_accuracy: 0.9951 - lr: 1.5625e-05\n",
      "Epoch 26: early stopping\n"
     ]
    }
   ],
   "source": [
    "history = model.fit(x_train_final, y_train_final, \n",
    "                    validation_data=(x_test, y_test), \n",
    "                    epochs=30, \n",
    "                    batch_size=128,\n",
    "                    validation_steps = x_test.shape[0] // 128,\n",
    "                    steps_per_epoch = x_train.shape[0] // 128,\n",
    "                    callbacks = [reduce_lr, early_stopping])"
   ]
  },
  {
   "cell_type": "markdown",
   "id": "b79c57cd",
   "metadata": {
    "papermill": {
     "duration": 0.125446,
     "end_time": "2023-07-12T19:43:45.427215",
     "exception": false,
     "start_time": "2023-07-12T19:43:45.301769",
     "status": "completed"
    },
    "tags": []
   },
   "source": [
    "# Interpreting Result & Error Analysis"
   ]
  },
  {
   "cell_type": "code",
   "execution_count": 15,
   "id": "7e979adb",
   "metadata": {
    "execution": {
     "iopub.execute_input": "2023-07-12T19:43:45.688300Z",
     "iopub.status.busy": "2023-07-12T19:43:45.687281Z",
     "iopub.status.idle": "2023-07-12T19:43:46.113994Z",
     "shell.execute_reply": "2023-07-12T19:43:46.112849Z"
    },
    "papermill": {
     "duration": 0.563199,
     "end_time": "2023-07-12T19:43:46.116412",
     "exception": false,
     "start_time": "2023-07-12T19:43:45.553213",
     "status": "completed"
    },
    "tags": []
   },
   "outputs": [
    {
     "data": {
      "text/plain": [
       "<Axes: >"
      ]
     },
     "execution_count": 15,
     "metadata": {},
     "output_type": "execute_result"
    },
    {
     "data": {
      "image/png": "[encoded data removed]",
      "text/plain": [
       "<Figure size 640x480 with 1 Axes>"
      ]
     },
     "metadata": {},
     "output_type": "display_data"
    }
   ],
   "source": [
    "pd.DataFrame(history.history).plot()"
   ]
  },
  {
   "cell_type": "markdown",
   "id": "962236f6",
   "metadata": {
    "papermill": {
     "duration": 0.128391,
     "end_time": "2023-07-12T19:43:46.376288",
     "exception": false,
     "start_time": "2023-07-12T19:43:46.247897",
     "status": "completed"
    },
    "tags": []
   },
   "source": [
    "# Predicting Test Data Frame"
   ]
  },
  {
   "cell_type": "code",
   "execution_count": 16,
   "id": "a9a0838d",
   "metadata": {
    "execution": {
     "iopub.execute_input": "2023-07-12T19:43:46.630490Z",
     "iopub.status.busy": "2023-07-12T19:43:46.630088Z",
     "iopub.status.idle": "2023-07-12T19:43:49.943033Z",
     "shell.execute_reply": "2023-07-12T19:43:49.941994Z"
    },
    "papermill": {
     "duration": 3.442669,
     "end_time": "2023-07-12T19:43:49.945474",
     "exception": false,
     "start_time": "2023-07-12T19:43:46.502805",
     "status": "completed"
    },
    "tags": []
   },
   "outputs": [
    {
     "name": "stdout",
     "output_type": "stream",
     "text": [
      "875/875 [==============================] - 2s 2ms/step\n"
     ]
    }
   ],
   "source": [
    "test_df = test_df.values.reshape(-1,28,28,1)\n",
    "predictions = model.predict(test_df)"
   ]
  },
  {
   "cell_type": "code",
   "execution_count": 17,
   "id": "b0608a93",
   "metadata": {
    "execution": {
     "iopub.execute_input": "2023-07-12T19:43:50.220280Z",
     "iopub.status.busy": "2023-07-12T19:43:50.219906Z",
     "iopub.status.idle": "2023-07-12T19:43:54.928568Z",
     "shell.execute_reply": "2023-07-12T19:43:54.927512Z"
    },
    "papermill": {
     "duration": 4.850783,
     "end_time": "2023-07-12T19:43:54.931628",
     "exception": false,
     "start_time": "2023-07-12T19:43:50.080845",
     "status": "completed"
    },
    "tags": []
   },
   "outputs": [
    {
     "data": {
      "text/plain": [
       "<function matplotlib.pyplot.show(close=None, block=None)>"
      ]
     },
     "execution_count": 17,
     "metadata": {},
     "output_type": "execute_result"
    },
    {
     "data": {
      "image/png": "[encoded data removed]",
      "text/plain": [
       "<Figure size 1600x1600 with 16 Axes>"
      ]
     },
     "metadata": {},
     "output_type": "display_data"
    }
   ],
   "source": [
    "fig = plt.figure(1, figsize=(16, 16))\n",
    "\n",
    "for i in range(16):\n",
    "    plt.subplot(4, 4, i+1)\n",
    "    plt.imshow(test_df[i], cmap='gray')\n",
    "    plt.title(f'Predicted: {np.argmax(predictions,axis=1)[i]}')\n",
    "\n",
    "plt.tight_layout()\n",
    "plt.show"
   ]
  },
  {
   "cell_type": "markdown",
   "id": "2aa0de13",
   "metadata": {
    "papermill": {
     "duration": 0.196471,
     "end_time": "2023-07-12T19:43:55.323148",
     "exception": false,
     "start_time": "2023-07-12T19:43:55.126677",
     "status": "completed"
    },
    "tags": []
   },
   "source": [
    "## Submission"
   ]
  },
  {
   "cell_type": "code",
   "execution_count": 18,
   "id": "5cfd3fbe",
   "metadata": {
    "execution": {
     "iopub.execute_input": "2023-07-12T19:43:55.717553Z",
     "iopub.status.busy": "2023-07-12T19:43:55.717096Z",
     "iopub.status.idle": "2023-07-12T19:43:55.737812Z",
     "shell.execute_reply": "2023-07-12T19:43:55.736908Z"
    },
    "papermill": {
     "duration": 0.220674,
     "end_time": "2023-07-12T19:43:55.740697",
     "exception": false,
     "start_time": "2023-07-12T19:43:55.520023",
     "status": "completed"
    },
    "tags": []
   },
   "outputs": [
    {
     "data": {
      "text/html": [
       "<div>\n",
       "<style scoped>\n",
       "    .dataframe tbody tr th:only-of-type {\n",
       "        vertical-align: middle;\n",
       "    }\n",
       "\n",
       "    .dataframe tbody tr th {\n",
       "        vertical-align: top;\n",
       "    }\n",
       "\n",
       "    .dataframe thead th {\n",
       "        text-align: right;\n",
       "    }\n",
       "</style>\n",
       "<table border=\"1\" class=\"dataframe\">\n",
       "  <thead>\n",
       "    <tr style=\"text-align: right;\">\n",
       "      <th></th>\n",
       "      <th>label</th>\n",
       "    </tr>\n",
       "  </thead>\n",
       "  <tbody>\n",
       "    <tr>\n",
       "      <th>0</th>\n",
       "      <td>2</td>\n",
       "    </tr>\n",
       "    <tr>\n",
       "      <th>1</th>\n",
       "      <td>0</td>\n",
       "    </tr>\n",
       "    <tr>\n",
       "      <th>2</th>\n",
       "      <td>9</td>\n",
       "    </tr>\n",
       "    <tr>\n",
       "      <th>3</th>\n",
       "      <td>9</td>\n",
       "    </tr>\n",
       "    <tr>\n",
       "      <th>4</th>\n",
       "      <td>3</td>\n",
       "    </tr>\n",
       "    <tr>\n",
       "      <th>...</th>\n",
       "      <td>...</td>\n",
       "    </tr>\n",
       "    <tr>\n",
       "      <th>27995</th>\n",
       "      <td>9</td>\n",
       "    </tr>\n",
       "    <tr>\n",
       "      <th>27996</th>\n",
       "      <td>7</td>\n",
       "    </tr>\n",
       "    <tr>\n",
       "      <th>27997</th>\n",
       "      <td>3</td>\n",
       "    </tr>\n",
       "    <tr>\n",
       "      <th>27998</th>\n",
       "      <td>9</td>\n",
       "    </tr>\n",
       "    <tr>\n",
       "      <th>27999</th>\n",
       "      <td>2</td>\n",
       "    </tr>\n",
       "  </tbody>\n",
       "</table>\n",
       "<p>28000 rows × 1 columns</p>\n",
       "</div>"
      ],
      "text/plain": [
       "       label\n",
       "0          2\n",
       "1          0\n",
       "2          9\n",
       "3          9\n",
       "4          3\n",
       "...      ...\n",
       "27995      9\n",
       "27996      7\n",
       "27997      3\n",
       "27998      9\n",
       "27999      2\n",
       "\n",
       "[28000 rows x 1 columns]"
      ]
     },
     "execution_count": 18,
     "metadata": {},
     "output_type": "execute_result"
    }
   ],
   "source": [
    "pred = pd.DataFrame({'label': np.argmax(predictions,axis=1)})\n",
    "pred"
   ]
  },
  {
   "cell_type": "code",
   "execution_count": 19,
   "id": "e162121d",
   "metadata": {
    "execution": {
     "iopub.execute_input": "2023-07-12T19:43:56.146054Z",
     "iopub.status.busy": "2023-07-12T19:43:56.145685Z",
     "iopub.status.idle": "2023-07-12T19:43:56.245190Z",
     "shell.execute_reply": "2023-07-12T19:43:56.244167Z"
    },
    "papermill": {
     "duration": 0.30387,
     "end_time": "2023-07-12T19:43:56.248354",
     "exception": false,
     "start_time": "2023-07-12T19:43:55.944484",
     "status": "completed"
    },
    "tags": []
   },
   "outputs": [],
   "source": [
    "pred=pd.concat([pd.Series(range(1,28001),name='ImageId'),pred],axis=1)\n",
    "pred.to_csv('/kaggle/working/submission.csv', index=False)"
   ]
  },
  {
   "cell_type": "code",
   "execution_count": null,
   "id": "30feb3ae",
   "metadata": {
    "papermill": {
     "duration": 0.131845,
     "end_time": "2023-07-12T19:43:56.533333",
     "exception": false,
     "start_time": "2023-07-12T19:43:56.401488",
     "status": "completed"
    },
    "tags": []
   },
   "outputs": [],
   "source": []
  }
 ],
 "metadata": {
  "kernelspec": {
   "display_name": "Python 3",
   "language": "python",
   "name": "python3"
  },
  "language_info": {
   "codemirror_mode": {
    "name": "ipython",
    "version": 3
   },
   "file_extension": ".py",
   "mimetype": "text/x-python",
   "name": "python",
   "nbconvert_exporter": "python",
   "pygments_lexer": "ipython3",
   "version": "3.10.10"
  },
  "papermill": {
   "default_parameters": {},
   "duration": 141.036603,
   "end_time": "2023-07-12T19:43:59.774129",
   "environment_variables": {},
   "exception": null,
   "input_path": "__notebook__.ipynb",
   "output_path": "__notebook__.ipynb",
   "parameters": {},
   "start_time": "2023-07-12T19:41:38.737526",
   "version": "2.4.0"
  }
 },
 "nbformat": 4,
 "nbformat_minor": 5
}
